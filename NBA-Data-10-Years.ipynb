{
 "cells": [
  {
   "cell_type": "code",
   "execution_count": 11,
   "metadata": {},
   "outputs": [],
   "source": [
    "import numpy as np\n",
    "import pandas as pd\n",
    "import random\n",
    "import time\n",
    "from unidecode import unidecode\n"
   ]
  },
  {
   "cell_type": "code",
   "execution_count": 12,
   "metadata": {},
   "outputs": [
    {
     "data": {
      "text/plain": [
       "30"
      ]
     },
     "execution_count": 12,
     "metadata": {},
     "output_type": "execute_result"
    }
   ],
   "source": [
    "teams = [\n",
    "    'atl', 'bos', 'brk', 'cho', 'chi', 'cle', 'dal', \n",
    "    'den', 'det', 'gsw', 'hou', 'ind', 'lac', 'lal', \n",
    "    'mem', 'mia', 'mil', 'min', 'nop', 'nyk', 'okc', \n",
    "    'orl', 'phi', 'pho', 'por', 'sac', 'sas', 'tor', \n",
    "    'uta', 'was'\n",
    "]\n",
    "len(teams)"
   ]
  },
  {
   "cell_type": "code",
   "execution_count": 13,
   "metadata": {},
   "outputs": [
    {
     "data": {
      "text/plain": [
       "10"
      ]
     },
     "execution_count": 13,
     "metadata": {},
     "output_type": "execute_result"
    }
   ],
   "source": [
    "seasons = [\n",
    "    '2014', '2015', '2016', '2017', '2018',\n",
    "    '2019', '2020', '2021', '2022', '2023', \n",
    "]\n",
    "len(seasons)"
   ]
  },
  {
   "cell_type": "code",
   "execution_count": 14,
   "metadata": {},
   "outputs": [],
   "source": [
    "# Stats dictionaries\n",
    "stats = [\n",
    "    'FG', 'FGA', 'fg%', \n",
    "    '3P', '3PA', '3P%',\n",
    "    'FT', 'FTA', 'FT%',\n",
    "    'ORB', 'TRB', 'AST',\n",
    "    'STL', 'BLK', 'TOV',\n",
    "    'PF'\n",
    "]\n",
    "\n",
    "tm_stats_dictionary = {stat: 'Tm_' + str(stat) for stat in stats}\n",
    "opp_stats_dictionary = {stat + '.1': 'Opp_' + str(stat) for stat in stats}"
   ]
  },
  {
   "cell_type": "code",
   "execution_count": null,
   "metadata": {},
   "outputs": [],
   "source": [
    "# Data frame to append into\n",
    "\n",
    "nba_df = pd.DataFrame()\n",
    "\n",
    "# Going through seasons\n",
    "\n",
    "for season in seasons:\n",
    "\n",
    "    # Going through teams\n",
    "\n",
    "    for team in teams:\n",
    "\n",
    "        url = 'https://www.basketball-reference.com/teams/' + team + '/' + season + '/gamelog/'\n",
    "        print(url)\n",
    "\n",
    "        team_df = pd.read_html(url, header = 1, attrs ={'id':'tgl_basic'})[0]\n",
    "\n",
    "        team_df = team_df[(team_df['Rk'].str != '') & (team_df['Rk'].str.isnumeric())]\n",
    "\n",
    "        team_df = team_df.drop(columms = ['Rk', 'Unnamed: 24'])\n",
    "\n",
    "        \n",
    "\n",
    "        team_df = team_df.rename(columns={'Unnamed: 3':'Home', 'Tm':'tm_pts', 'opp.1':'Opp_pts'})\n",
    "        team_df = team_df.rename(columns=tm_stats_dictionary)\n",
    "        team_df = team_df.rename(columns=opp_stats_dictionary)\n",
    "\n",
    "        team_df['Home'] = team_df['Home'].apply(lambda x: 0 if x == '@' else 1)\n",
    "\n",
    "        team_df.insert(loc=0, column='Season', value = season)\n",
    "        team_df.insert(loc=1, column = 'Team', value = team.upper)\n",
    "\n",
    "        nba_df = pd.concat([nba_df, team_df], ignore_index=True)\n",
    "        \n",
    "        #basketball-reference only allows to scrape data 20 times per minute, so to abide by that, this code is used\n",
    "        time.sleep(random.randint(4,6))\n",
    "\n",
    "print(nba_df)"
   ]
  },
  {
   "cell_type": "code",
   "execution_count": null,
   "metadata": {},
   "outputs": [],
   "source": [
    "print(nba_df)"
   ]
  },
  {
   "cell_type": "code",
   "execution_count": 17,
   "metadata": {},
   "outputs": [],
   "source": [
    "nba_df.to_csv('nba-gamelog-2014-2023.csv', index = False)"
   ]
  }
 ],
 "metadata": {
  "kernelspec": {
   "display_name": "Python 3",
   "language": "python",
   "name": "python3"
  },
  "language_info": {
   "codemirror_mode": {
    "name": "ipython",
    "version": 3
   },
   "file_extension": ".py",
   "mimetype": "text/x-python",
   "name": "python",
   "nbconvert_exporter": "python",
   "pygments_lexer": "ipython3",
   "version": "3.12.1"
  }
 },
 "nbformat": 4,
 "nbformat_minor": 2
}
