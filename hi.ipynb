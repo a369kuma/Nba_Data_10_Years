{
 "cells": [
  {
   "cell_type": "code",
   "execution_count": null,
   "metadata": {},
   "outputs": [],
   "source": [
    "import numpy as np\n",
    "import pandas as pd\n",
    "import random\n",
    "import time\n",
    "from unidecode import unidecode"
   ]
  },
  {
   "cell_type": "code",
   "execution_count": null,
   "metadata": {},
   "outputs": [],
   "source": [
    "teams = [\n",
    "    'atl', 'bos', 'brk', 'cho', 'chi', 'cle', 'dal', \n",
    "    'den', 'det', 'gsw', 'hou', 'ind', 'lac', 'lal', \n",
    "    'mem', 'mia', 'mil', 'min', 'nop', 'nyk', 'okc', \n",
    "    'orl', 'phi', 'pho', 'por', 'sac', 'sas', 'tor', \n",
    "    'uta', 'was'\n",
    "]\n",
    "len(teams)"
   ]
  },
  {
   "cell_type": "code",
   "execution_count": null,
   "metadata": {},
   "outputs": [],
   "source": [
    "seasons = [\n",
    "    '2014', '2015', '2016', '2017', '2018',\n",
    "    '2019', '2020', '2021', '2022', '2023', \n",
    "]\n",
    "len(seasons)"
   ]
  },
  {
   "cell_type": "code",
   "execution_count": null,
   "metadata": {},
   "outputs": [],
   "source": [
    "# Stats dictionaries\n",
    "stats = [\n",
    "    'FG', 'FGA', 'fg%', \n",
    "    '3P', '3PA', '3P%',\n",
    "    'FT', 'FTA', 'FT%',\n",
    "    'ORB', 'TRB', 'AST',\n",
    "    'STL', 'BLK', 'TOV',\n",
    "    'PF'\n",
    "]\n",
    "\n",
    "tm_stats_dictionary = {stat: 'Tm_' + str(stat) for stat in stats}\n",
    "opp_stats_dictionary = {stat + '.1': 'Opp_' + str(stat) for stat in stats}"
   ]
  },
  {
   "cell_type": "code",
   "execution_count": null,
   "metadata": {},
   "outputs": [],
   "source": [
    "# Data frame to append into\n",
    "nba_Data_Frame = pd.DataFrame()\n",
    "\n",
    "# Iterate through seasons and teams\n",
    "for season in seasons:\n",
    "    for team in teams:\n",
    "        url = f'https://www.basketball-reference.com/teams/{team}/{season}/gamelog/'\n",
    "        print(f\"Scraping URL: {url}\")\n",
    "\n",
    "        try:\n",
    "            # Read the HTML table\n",
    "            team_df = pd.read_html(url, header=1, attrs={'id': 'tgl_basic'})[0]\n",
    "\n",
    "            # Filter out unwanted rows and drop unnecessary columns\n",
    "            team_df = team_df[(team_df['Rk'].str != '') & (team_df['Rk'].str.isnumeric())]\n",
    "            team_df = team_df.drop(columns=['Rk', 'Unnamed: 24'], errors='ignore')  # Drop columns safely\n",
    "\n",
    "            # Rename columns for clarity\n",
    "            team_df = team_df.rename(columns={'Unnamed: 3': 'Home', 'Tm': 'tm_pts', 'Opp.1': 'Opp_pts'})\n",
    "            team_df = team_df.rename(columns=tm_stats_dictionary)\n",
    "            team_df = team_df.rename(columns=opp_stats_dictionary)\n",
    "\n",
    "            # Convert 'Home' column values to binary\n",
    "            team_df['Home'] = team_df['Home'].apply(lambda x: 0 if x == '@' else 1)\n",
    "\n",
    "            # Add season and team information\n",
    "            team_df.insert(loc=0, column='Season', value=season)\n",
    "            team_df.insert(loc=1, column='Team', value=team.upper())\n",
    "\n",
    "            # Append data to the main dataframe\n",
    "            nba_Data_Frame = pd.concat([nba_Data_Frame, team_df], ignore_index=True)\n",
    "\n",
    "            # Pause to respect scraping limits\n",
    "            time.sleep(random.randint(4, 6))  \n",
    "        \n",
    "print(nba_Data_Frame)"
   ]
  },
  {
   "cell_type": "code",
   "execution_count": null,
   "metadata": {},
   "outputs": [],
   "source": [
    "print(nba_Data_Frame)"
   ]
  },
  {
   "cell_type": "code",
   "execution_count": null,
   "metadata": {},
   "outputs": [],
   "source": [
    "nba_Data_Frame.to_csv('nba-gamelogs-2014-2023.csv', index = False)"
   ]
  }
 ],
 "metadata": {
  "kernelspec": {
   "display_name": "Python 3",
   "language": "python",
   "name": "python3"
  },
  "language_info": {
   "codemirror_mode": {
    "name": "ipython",
    "version": 3
   },
   "file_extension": ".py",
   "mimetype": "text/x-python",
   "name": "python",
   "nbconvert_exporter": "python",
   "pygments_lexer": "ipython3",
   "version": "3.12.1"
  }
 },
 "nbformat": 4,
 "nbformat_minor": 2
}
